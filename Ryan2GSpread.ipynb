{
 "cells": [
  {
   "cell_type": "code",
   "execution_count": 1,
   "metadata": {},
   "outputs": [],
   "source": [
    "import requests\n",
    "import gspread\n",
    "import json\n",
    "sa = gspread.service_account(filename=\"sa_creds.json\")"
   ]
  },
  {
   "cell_type": "code",
   "execution_count": 2,
   "metadata": {},
   "outputs": [],
   "source": [
    "#Ryanair queries:\n",
    "def destinations(airportFrom):\n",
    "    base = 'https://www.ryanair.com/api/locate/v5/routes'\n",
    "    departureAirportCode = f'departureAirportCode={airportFrom}'\n",
    "    fields = 'fields=arrivalAirport.code&fields=arrivalAirport.name&fields=arrivalAirport.seoName&fields=arrivalAirport.timeZone&fields=arrivalAirport.city.code&fields=arrivalAirport.city.name&fields=arrivalAirport.coordinates.latitude&fields=arrivalAirport.coordinates.longitude&fields=arrivalAirport.country.code&fields=arrivalAirport.country.name&fields=arrivalAirport.country.currency&fields=operator'\n",
    "    return f'{base}?{departureAirportCode}&{fields}'\n",
    "\n",
    "def fares(airportFrom: str, airportTo: str, dateOutIn: str, adult: int=1, teen: int=0, children: int=0, infant: int=0, flexDays: int=6):\n",
    "    base = 'https://www.ryanair.com/api/booking/v4/en-en/availability'\n",
    "    return f'{base}?ADT={adult}&CHD={children}&Destination={airportTo}&INF={infant}&Origin={airportFrom}&TEEN={teen}&IncludeConnectingFlights=false&DateOut={dateOutIn}&FlexDaysOut={flexDays}&DateIn={dateOutIn}&FlexDaysIn={flexDays}&RoundTrip=true&ToUs=AGREED'"
   ]
  },
  {
   "cell_type": "code",
   "execution_count": 3,
   "metadata": {},
   "outputs": [],
   "source": [
    "wksheets = []\n",
    "sh = sa.open(\"Flights\")\n",
    "\n",
    "#getting all worksheets on sheet\n",
    "sh_md = sh.fetch_sheet_metadata()\n",
    "for s in sh_md['sheets']:\n",
    "    wksheets.append(s['properties']['title'])\n",
    "# wksheets"
   ]
  },
  {
   "cell_type": "code",
   "execution_count": 4,
   "metadata": {},
   "outputs": [
    {
     "data": {
      "text/plain": [
       "[['VNO', 'PSR', '2022-12-20', 'TRUE'], ['VNO', 'CIA', '2022-10-26', 'TRUE']]"
      ]
     },
     "execution_count": 4,
     "metadata": {},
     "output_type": "execute_result"
    }
   ],
   "source": [
    "#getting travel route and dates\n",
    "wks = sh.worksheet('Flights')\n",
    "flightSearch = wks.get_all_values()[1:]\n",
    "for f in flightSearch:\n",
    "    if 'FALSE' in f:\n",
    "        flightSearch.remove(f)\n",
    "flightSearch"
   ]
  },
  {
   "cell_type": "code",
   "execution_count": 5,
   "metadata": {},
   "outputs": [
    {
     "name": "stdout",
     "output_type": "stream",
     "text": [
      "['VNO-PSR_2022-12-20', 'VNO', 'PSR', '2022-12-20', 'TRUE']\n",
      "['VNO-CIA_2022-10-26', 'VNO', 'CIA', '2022-10-26', 'TRUE']\n"
     ]
    }
   ],
   "source": [
    "for i in flightSearch:\n",
    "    i.insert(0, f'{i[0]}-{i[1]}_{i[2]}')\n",
    "    # i.append(f'{i[0]}-{i[1]}_{i[2]}')\n",
    "    # print(f'{i[0]}-{i[1]}_{i[2]}')\n",
    "    print(i)\n",
    "\n"
   ]
  },
  {
   "cell_type": "code",
   "execution_count": 6,
   "metadata": {},
   "outputs": [],
   "source": [
    "#requests.get(destinations('VNO')).json()\n",
    "# requests.get(fares('VNO','CIA','2022-12-20')).json()\n",
    "# print(fares('VNO','CIA','2022-12-20'))\n"
   ]
  },
  {
   "cell_type": "code",
   "execution_count": null,
   "metadata": {},
   "outputs": [],
   "source": []
  }
 ],
 "metadata": {
  "kernelspec": {
   "display_name": "Python 3.10.8 64-bit",
   "language": "python",
   "name": "python3"
  },
  "language_info": {
   "codemirror_mode": {
    "name": "ipython",
    "version": 3
   },
   "file_extension": ".py",
   "mimetype": "text/x-python",
   "name": "python",
   "nbconvert_exporter": "python",
   "pygments_lexer": "ipython3",
   "version": "3.10.8"
  },
  "orig_nbformat": 4,
  "vscode": {
   "interpreter": {
    "hash": "d9db07523a7bcd884ceb30f06d1f807e37bfbee0943e0469c0a01fb4263e8ac0"
   }
  }
 },
 "nbformat": 4,
 "nbformat_minor": 2
}
