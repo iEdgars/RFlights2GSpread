{
 "cells": [
  {
   "cell_type": "code",
   "execution_count": 1,
   "metadata": {},
   "outputs": [],
   "source": [
    "import requests #type:ignore NOQA\n",
    "import gspread #type:ignore NOQA\n",
    "import random\n",
    "from datetime import date, timedelta, datetime\n",
    "from time import sleep\n",
    "#import json\n",
    "sa = gspread.service_account(filename=\"sa_creds.json\")\n"
   ]
  },
  {
   "cell_type": "code",
   "execution_count": 3,
   "metadata": {},
   "outputs": [],
   "source": [
    "#Ryanair queries:\n",
    "def getDestinations(airportFrom: str):\n",
    "    base = 'https://www.ryanair.com/api/locate/v5/routes'\n",
    "    departureAirportCode = f'departureAirportCode={airportFrom.upper()}'\n",
    "    fields = 'fields=arrivalAirport.code&fields=arrivalAirport.name&fields=arrivalAirport.seoName&fields=arrivalAirport.timeZone&fields=arrivalAirport.city.code&fields=arrivalAirport.city.name&fields=arrivalAirport.coordinates.latitude&fields=arrivalAirport.coordinates.longitude&fields=arrivalAirport.country.code&fields=arrivalAirport.country.name&fields=arrivalAirport.country.currency&fields=operator'\n",
    "    return f'{base}?{departureAirportCode}&{fields}'\n",
    "\n",
    "def getAvailabilities(airportFrom: str, airportTo: str):\n",
    "    base = 'https://www.ryanair.com/api/farfnd/3/oneWayFares'\n",
    "    return f'{base}/{airportFrom.upper()}/{airportTo.upper()}/availabilities'\n",
    "\n",
    "def getFares(airportFrom: str, airportTo: str, dateOutIn: str, adult: int=1, teen: int=0, children: int=0, infant: int=0, flexDays: int=6):\n",
    "    base = 'https://www.ryanair.com/api/booking/v4/en-en/availability'\n",
    "    \n",
    "    return f'{base}?ADT={adult}&CHD={children}&Destination={airportTo.upper()}&INF={infant}&Origin={airportFrom.upper()}&TEEN={teen}&IncludeConnectingFlights=false&DateOut={dateOutIn}&FlexDaysOut={flexDays}&DateIn={dateOutIn}&FlexDaysIn={flexDays}&RoundTrip=true&ToUs=AGREED'\n",
    "\n",
    "def readDestinations(trip, mappingFor, destinationsJSON, destinationsList):\n",
    "#read destinations from JSON into list\n",
    "    for d in destinationsJSON:\n",
    "        dArrivalAirportCode = d['arrivalAirport']['code']\n",
    "        dAirportName = d['arrivalAirport']['name']\n",
    "        dAirportSeoName = d['arrivalAirport']['seoName']\n",
    "        dAirportCountryCode = d['arrivalAirport']['country']['code']\n",
    "        dAirportCountryName = d['arrivalAirport']['country']['name']\n",
    "        dAirportCityName = d['arrivalAirport']['city']['name']\n",
    "        dAirportTimeZone = d['arrivalAirport']['timeZone']\n",
    "        dCurrency = d['arrivalAirport']['country']['currency']\n",
    "        dlatitude = str(d['arrivalAirport']['coordinates']['latitude'])\n",
    "        dlongitude = str(d['arrivalAirport']['coordinates']['longitude'])\n",
    "        dDateChecked = str(date.today())\n",
    "        destinationsList.append([trip, mappingFor, dArrivalAirportCode, dAirportName, dAirportSeoName, dAirportCountryCode, dAirportCountryName, dAirportCityName, dAirportTimeZone, dCurrency, dlatitude, dlongitude, dDateChecked])\n",
    "\n",
    "def buildFareSearch(activeTrips, ryanDestinations):\n",
    "#gather destinations and dates for active trips\n",
    "    for f in activeTrips:\n",
    "        for i in ryanDestinations:\n",
    "            if f[0] in i:\n",
    "                fareDestinations.append([f[0], f[1], f[2], i[1], i[2], f[3]])\n",
    "\n",
    "def buildFlightDate(flightDate: str, flightFrom: str, flightTo: str):\n",
    "#make date range and select closest date from available dates\n",
    "    fdate = datetime.strptime(flightDate,\"%Y-%m-%d\").date()\n",
    "    if fdate > date.today() + timedelta(days=4):\n",
    "        fdate = fdate - timedelta(days=3)\n",
    "    availables = requests.get(getAvailabilities(flightFrom,flightTo)).json()\n",
    "    if availables == []:\n",
    "        fdate = 'NoFlights!'\n",
    "    else:        \n",
    "        for e, a in enumerate(availables):\n",
    "            if datetime.strptime(a,\"%Y-%m-%d\").date() < fdate:\n",
    "                availables[e] = 999\n",
    "            else:\n",
    "                availables[e] = abs((datetime.strptime(a,\"%Y-%m-%d\").date()-fdate).days)\n",
    "        fdate = (fdate + timedelta(days=min(availables))).strftime(\"%Y-%m-%d\")\n",
    "    return fdate\n",
    "\n",
    "rDestinations = []\n",
    "fareDestinations = []"
   ]
  },
  {
   "cell_type": "code",
   "execution_count": 4,
   "metadata": {},
   "outputs": [],
   "source": [
    "#getting all worksheets on sheet\n",
    "wksheets = []\n",
    "sh = sa.open(\"Flights\")\n",
    "\n",
    "sh_md = sh.fetch_sheet_metadata()\n",
    "for s in sh_md['sheets']:\n",
    "    wksheets.append(s['properties']['title'])\n",
    "# wksheets"
   ]
  },
  {
   "cell_type": "code",
   "execution_count": 5,
   "metadata": {},
   "outputs": [],
   "source": [
    "#getting travel route and dates\n",
    "wks = sh.worksheet('Flights')\n",
    "flightSearch_all = wks.get_all_values()[1:]\n",
    "\n",
    "#adding trip to front\n",
    "for f in flightSearch_all:\n",
    "    f.insert(0, f'{f[0]}-{f[1]}_{f[2]}')\n",
    "\n",
    "#getting active trips only\n",
    "flightSearch_active = [f for f in flightSearch_all if 'TRUE' in f]\n",
    "\n",
    "#identifying trips that are already in RyanDestinations worksheet\n",
    "tripsAlreadyIn = []\n",
    "wks_dest = sh.worksheet('RyanDestinations')\n",
    "tripsIn = wks_dest.get()\n",
    "tripsIn = tripsIn[1:]\n",
    "for f in tripsIn:\n",
    "    if f[0] not in tripsAlreadyIn:\n",
    "        tripsAlreadyIn.append(f[0])\n",
    "\n",
    "#getting list of only new trips\n",
    "flightSearch_activeNew = [f for f in flightSearch_active if f[0] not in tripsAlreadyIn]"
   ]
  },
  {
   "cell_type": "code",
   "execution_count": 7,
   "metadata": {},
   "outputs": [
    {
     "data": {
      "text/plain": [
       "['VNO-PSR_2022-12-20']"
      ]
     },
     "execution_count": 7,
     "metadata": {},
     "output_type": "execute_result"
    }
   ],
   "source": [
    "tripsAlreadyIn"
   ]
  },
  {
   "cell_type": "code",
   "execution_count": 6,
   "metadata": {},
   "outputs": [],
   "source": [
    "#adding new trips to RyanDestinations worksheet\n",
    "if len(flightSearch_activeNew) > 0:\n",
    "    for f in flightSearch_activeNew:\n",
    "        fromMappingFor = f[1]\n",
    "        toMappingFor = f[2]\n",
    "        theTrip = f[0]\n",
    "#Retrieving destinations for Origin airport and apprnding to rDestinations[]\n",
    "        destinations = requests.get(getDestinations(fromMappingFor)).json()\n",
    "        readDestinations(theTrip, fromMappingFor, destinations, rDestinations)\n",
    "        sleep(random.randint(1, 5))\n",
    "#Retrieving destinations for final Destination airport and apprnding to rDestinations[]\n",
    "        destinations = requests.get(getDestinations(toMappingFor)).json()\n",
    "        readDestinations(theTrip, toMappingFor, destinations, rDestinations)\n",
    "        sleep(random.randint(1, 5))\n",
    "#Sendin all destinations to GSheets 'RyanDestinations' sheet\n",
    "    if len(rDestinations) > 0:\n",
    "        wks_dest.append_rows(rDestinations)"
   ]
  },
  {
   "cell_type": "code",
   "execution_count": 50,
   "metadata": {},
   "outputs": [],
   "source": [
    "dest = 'https://www.ryanair.com/api/booking/v4/en-en/availability?ADT=1&CHD=0&Destination=BGY&INF=0&Origin=VNO&TEEN=0&IncludeConnectingFlights=false&DateOut=2022-12-18&FlexDaysOut=6&DateIn=2022-12-18&FlexDaysIn=6&RoundTrip=true&ToUs=AGREED'\n",
    "\n",
    "fares = requests.get(dest).json()"
   ]
  },
  {
   "cell_type": "code",
   "execution_count": 73,
   "metadata": {},
   "outputs": [
    {
     "name": "stdout",
     "output_type": "stream",
     "text": [
      "FR~2871~ ~~VNO~12/18/2022 13:25~BGY~12/18/2022 15:00~~\n",
      "FR~2871~ ~~VNO~12/19/2022 14:10~BGY~12/19/2022 15:45~~\n",
      "FR~2871~ ~~VNO~12/20/2022 14:20~BGY~12/20/2022 15:55~~\n",
      "FR~2871~ ~~VNO~12/22/2022 15:05~BGY~12/22/2022 16:40~~\n",
      "FR~2871~ ~~VNO~12/23/2022 21:40~BGY~12/23/2022 23:15~~\n",
      "FR~2871~ ~~VNO~12/24/2022 11:05~BGY~12/24/2022 12:40~~\n",
      "FR~2872~ ~~BGY~12/18/2022 15:25~VNO~12/18/2022 18:50~~\n",
      "FR~2872~ ~~BGY~12/19/2022 16:10~VNO~12/19/2022 19:35~~\n",
      "FR~2872~ ~~BGY~12/20/2022 10:30~VNO~12/20/2022 13:55~~\n",
      "FR~2872~ ~~BGY~12/22/2022 11:15~VNO~12/22/2022 14:40~~\n",
      "FR~2872~ ~~BGY~12/23/2022 17:50~VNO~12/23/2022 21:15~~\n",
      "FR~2872~ ~~BGY~12/24/2022 07:15~VNO~12/24/2022 10:40~~\n"
     ]
    }
   ],
   "source": [
    "# fares['currency']\n",
    "# for i in fares['trips']:\n",
    "#     print(i['origin'],i['destination'])\n",
    "\n",
    "for i in fares['trips']:\n",
    "    for f in i['dates']:\n",
    "        # print(f['dateOut'])\n",
    "        for d in f['flights']:\n",
    "            print(d['flightKey'])\n",
    "            # print(d['regularFare'])\n",
    "# for f in fares['trips'][0]:\n",
    "#     print(f)"
   ]
  },
  {
   "cell_type": "code",
   "execution_count": 8,
   "metadata": {},
   "outputs": [
    {
     "name": "stdout",
     "output_type": "stream",
     "text": [
      "https://www.ryanair.com/api/booking/v4/en-en/availability?ADT=1&CHD=0&Destination=ATH&INF=0&Origin=VNO&TEEN=0&IncludeConnectingFlights=false&DateOut=2023-03-26&FlexDaysOut=6&DateIn=2023-03-26&FlexDaysIn=6&RoundTrip=true&ToUs=AGREED\n",
      "https://www.ryanair.com/api/booking/v4/en-en/availability?ADT=1&CHD=0&Destination=BCN&INF=0&Origin=VNO&TEEN=0&IncludeConnectingFlights=false&DateOut=2022-12-18&FlexDaysOut=6&DateIn=2022-12-18&FlexDaysIn=6&RoundTrip=true&ToUs=AGREED\n",
      "https://www.ryanair.com/api/booking/v4/en-en/availability?ADT=1&CHD=0&Destination=BER&INF=0&Origin=VNO&TEEN=0&IncludeConnectingFlights=false&DateOut=2022-12-17&FlexDaysOut=6&DateIn=2022-12-17&FlexDaysIn=6&RoundTrip=true&ToUs=AGREED\n",
      "https://www.ryanair.com/api/booking/v4/en-en/availability?ADT=1&CHD=0&Destination=BGY&INF=0&Origin=VNO&TEEN=0&IncludeConnectingFlights=false&DateOut=2022-12-18&FlexDaysOut=6&DateIn=2022-12-18&FlexDaysIn=6&RoundTrip=true&ToUs=AGREED\n",
      "https://www.ryanair.com/api/booking/v4/en-en/availability?ADT=1&CHD=0&Destination=BHX&INF=0&Origin=VNO&TEEN=0&IncludeConnectingFlights=false&DateOut=2022-12-17&FlexDaysOut=6&DateIn=2022-12-17&FlexDaysIn=6&RoundTrip=true&ToUs=AGREED\n",
      "https://www.ryanair.com/api/booking/v4/en-en/availability?ADT=1&CHD=0&Destination=BLL&INF=0&Origin=VNO&TEEN=0&IncludeConnectingFlights=false&DateOut=2022-12-18&FlexDaysOut=6&DateIn=2022-12-18&FlexDaysIn=6&RoundTrip=true&ToUs=AGREED\n",
      "https://www.ryanair.com/api/booking/v4/en-en/availability?ADT=1&CHD=0&Destination=BRE&INF=0&Origin=VNO&TEEN=0&IncludeConnectingFlights=false&DateOut=2022-12-18&FlexDaysOut=6&DateIn=2022-12-18&FlexDaysIn=6&RoundTrip=true&ToUs=AGREED\n",
      "https://www.ryanair.com/api/booking/v4/en-en/availability?ADT=1&CHD=0&Destination=BVA&INF=0&Origin=VNO&TEEN=0&IncludeConnectingFlights=false&DateOut=2022-12-19&FlexDaysOut=6&DateIn=2022-12-19&FlexDaysIn=6&RoundTrip=true&ToUs=AGREED\n",
      "https://www.ryanair.com/api/booking/v4/en-en/availability?ADT=1&CHD=0&Destination=CFU&INF=0&Origin=VNO&TEEN=0&IncludeConnectingFlights=false&DateOut=2023-06-01&FlexDaysOut=6&DateIn=2023-06-01&FlexDaysIn=6&RoundTrip=true&ToUs=AGREED\n"
     ]
    },
    {
     "ename": "KeyboardInterrupt",
     "evalue": "",
     "output_type": "error",
     "traceback": [
      "\u001b[1;31m---------------------------------------------------------------------------\u001b[0m",
      "\u001b[1;31mKeyboardInterrupt\u001b[0m                         Traceback (most recent call last)",
      "Cell \u001b[1;32mIn [8], line 7\u001b[0m\n\u001b[0;32m      5\u001b[0m \u001b[39mif\u001b[39;00m fDate \u001b[39m!=\u001b[39m \u001b[39m'\u001b[39m\u001b[39mNoFlights!\u001b[39m\u001b[39m'\u001b[39m:\n\u001b[0;32m      6\u001b[0m     \u001b[39mprint\u001b[39m(getFares(t[\u001b[39m1\u001b[39m], t[\u001b[39m2\u001b[39m],fDate))\n\u001b[1;32m----> 7\u001b[0m sleep(random\u001b[39m.\u001b[39;49mrandint(\u001b[39m1\u001b[39;49m, \u001b[39m5\u001b[39;49m))\n",
      "\u001b[1;31mKeyboardInterrupt\u001b[0m: "
     ]
    }
   ],
   "source": [
    "#flight fare search dates\n",
    "for f in flightSearch_active:\n",
    "    for t in tripsIn:\n",
    "        if f[0] in t:\n",
    "            fDate = buildFlightDate(f[3], t[1], t[2])\n",
    "            if fDate != 'NoFlights!':\n",
    "                print(getFares(t[1], t[2],fDate))\n",
    "            sleep(random.randint(1, 5))"
   ]
  }
 ],
 "metadata": {
  "kernelspec": {
   "display_name": "Python 3",
   "language": "python",
   "name": "python3"
  },
  "language_info": {
   "codemirror_mode": {
    "name": "ipython",
    "version": 3
   },
   "file_extension": ".py",
   "mimetype": "text/x-python",
   "name": "python",
   "nbconvert_exporter": "python",
   "pygments_lexer": "ipython3",
   "version": "3.11.0"
  },
  "orig_nbformat": 4,
  "vscode": {
   "interpreter": {
    "hash": "c1fad06e6adf4e56bd2b7ae29e05b229358072c93aa5dc998aceb1464595b7d8"
   }
  }
 },
 "nbformat": 4,
 "nbformat_minor": 2
}
