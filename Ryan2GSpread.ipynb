{
 "cells": [
  {
   "cell_type": "code",
   "execution_count": 14,
   "metadata": {},
   "outputs": [],
   "source": [
    "import requests\n",
    "import gspread\n",
    "from datetime import date, timedelta, datetime\n",
    "from time import sleep\n",
    "#import json\n",
    "sa = gspread.service_account(filename=\"sa_creds.json\")\n"
   ]
  },
  {
   "cell_type": "code",
   "execution_count": 2,
   "metadata": {},
   "outputs": [],
   "source": [
    "#Ryanair queries:\n",
    "def getDestinations(airportFrom):\n",
    "    base = 'https://www.ryanair.com/api/locate/v5/routes'\n",
    "    departureAirportCode = f'departureAirportCode={airportFrom}'\n",
    "    fields = 'fields=arrivalAirport.code&fields=arrivalAirport.name&fields=arrivalAirport.seoName&fields=arrivalAirport.timeZone&fields=arrivalAirport.city.code&fields=arrivalAirport.city.name&fields=arrivalAirport.coordinates.latitude&fields=arrivalAirport.coordinates.longitude&fields=arrivalAirport.country.code&fields=arrivalAirport.country.name&fields=arrivalAirport.country.currency&fields=operator'\n",
    "    return f'{base}?{departureAirportCode}&{fields}'\n",
    "\n",
    "def getFares(airportFrom: str, airportTo: str, dateOutIn: str, adult: int=1, teen: int=0, children: int=0, infant: int=0, flexDays: int=6):\n",
    "    base = 'https://www.ryanair.com/api/booking/v4/en-en/availability'\n",
    "    \n",
    "    return f'{base}?ADT={adult}&CHD={children}&Destination={airportTo}&INF={infant}&Origin={airportFrom}&TEEN={teen}&IncludeConnectingFlights=false&DateOut={dateOutIn}&FlexDaysOut={flexDays}&DateIn={dateOutIn}&FlexDaysIn={flexDays}&RoundTrip=true&ToUs=AGREED'\n",
    "\n",
    "def readDestinations(trip, mappingFor, destinationsJSON, destinationsList):\n",
    "    for d in destinationsJSON:\n",
    "        dArrivalAirportCode = d['arrivalAirport']['code']\n",
    "        dAirportName = d['arrivalAirport']['name']\n",
    "        dAirportSeoName = d['arrivalAirport']['seoName']\n",
    "        dAirportCountryCode = d['arrivalAirport']['country']['code']\n",
    "        dAirportCountryName = d['arrivalAirport']['country']['name']\n",
    "        dAirportCityName = d['arrivalAirport']['city']['name']\n",
    "        dAirportTimeZone = d['arrivalAirport']['timeZone']\n",
    "        dCurrency = d['arrivalAirport']['country']['currency']\n",
    "        dlatitude = str(d['arrivalAirport']['coordinates']['latitude'])\n",
    "        dlongitude = str(d['arrivalAirport']['coordinates']['longitude'])\n",
    "        dDateChecked = str(date.today())\n",
    "        destinationsList.append([trip, mappingFor, dArrivalAirportCode, dAirportName, dAirportSeoName, dAirportCountryCode, dAirportCountryName, dAirportCityName, dAirportTimeZone, dCurrency, dlatitude, dlongitude, dDateChecked])\n",
    "\n",
    "def buildFareSearch(activeTrips, ryanDestinations):\n",
    "    for f in activeTrips:\n",
    "        for i in ryanDestinations:\n",
    "            if f[0] in i:\n",
    "                fareDestinations.append([f[0], f[1], f[2], i[1], i[2], f[3]])\n",
    "\n",
    "rDestinations = []\n",
    "fareDestinations = []"
   ]
  },
  {
   "cell_type": "code",
   "execution_count": 3,
   "metadata": {},
   "outputs": [],
   "source": [
    "#getting all worksheets on sheet\n",
    "wksheets = []\n",
    "sh = sa.open(\"Flights\")\n",
    "\n",
    "sh_md = sh.fetch_sheet_metadata()\n",
    "for s in sh_md['sheets']:\n",
    "    wksheets.append(s['properties']['title'])\n",
    "# wksheets"
   ]
  },
  {
   "cell_type": "code",
   "execution_count": 4,
   "metadata": {},
   "outputs": [],
   "source": [
    "#getting travel route and dates\n",
    "wks = sh.worksheet('Flights')\n",
    "flightSearch_all = wks.get_all_values()[1:]\n",
    "\n",
    "#adding trip to front\n",
    "for f in flightSearch_all:\n",
    "    f.insert(0, f'{f[0]}-{f[1]}_{f[2]}')\n",
    "\n",
    "#getting active trips only\n",
    "flightSearch_active = [f for f in flightSearch_all if 'TRUE' in f]\n",
    "\n",
    "#identifying trips that are already in RyanDestinations worksheet\n",
    "tripsAlreadyIn = []\n",
    "wks_dest = sh.worksheet('RyanDestinations')\n",
    "tripsIn = wks_dest.get()\n",
    "tripsIn = tripsIn[1:]\n",
    "for f in tripsIn:\n",
    "    if f[0] not in tripsAlreadyIn:\n",
    "        tripsAlreadyIn.append(f[0])\n",
    "\n",
    "#getting list of only new trips\n",
    "flightSearch_activeNew = [f for f in flightSearch_active if f[0] not in tripsAlreadyIn]"
   ]
  },
  {
   "cell_type": "code",
   "execution_count": 5,
   "metadata": {},
   "outputs": [],
   "source": [
    "#adding new trips to RyanDestinations worksheet\n",
    "if len(flightSearch_activeNew) > 0:\n",
    "    for f in flightSearch_activeNew:\n",
    "        fromMappingFor = f[1]\n",
    "        toMappingFor = f[2]\n",
    "        theTrip = f[0]\n",
    "        destinations = requests.get(getDestinations(fromMappingFor)).json()\n",
    "        readDestinations(theTrip, fromMappingFor, destinations, rDestinations)\n",
    "        sleep(3)\n",
    "        destinations = requests.get(getDestinations(toMappingFor)).json()\n",
    "        readDestinations(theTrip, toMappingFor, destinations, rDestinations)\n",
    "        sleep(4)\n",
    "    if len(rDestinations) > 0:\n",
    "        wks_dest.append_rows(rDestinations)"
   ]
  },
  {
   "cell_type": "code",
   "execution_count": 6,
   "metadata": {},
   "outputs": [],
   "source": [
    "#looking for fares\n",
    "buildFareSearch(flightSearch_active, tripsIn)\n"
   ]
  },
  {
   "cell_type": "code",
   "execution_count": 43,
   "metadata": {},
   "outputs": [
    {
     "name": "stdout",
     "output_type": "stream",
     "text": [
      "2022-11-17\n"
     ]
    }
   ],
   "source": [
    "# if len(fareDestinations) > 0:\n",
    "#     for i in fareDestinations:\n",
    "#         print(timedelta(i[5]))\n",
    "d='2022-11-20'\n",
    "# date.today() - timedelta(days=1)\n",
    "if datetime.strptime(d,\"%Y-%m-%d\").date() > date.today() + timedelta(days=3):\n",
    "    q = datetime.strptime(d,\"%Y-%m-%d\").date() - timedelta(days=3)\n",
    "else:\n",
    "    q = datetime.strptime(d,\"%Y-%m-%d\").date()\n",
    "print(q)\n",
    "\n",
    "\n",
    "\n",
    "# datetime.strptime(d,\"%Y-%m-%d\").date() - timedelta(days=3)"
   ]
  }
 ],
 "metadata": {
  "kernelspec": {
   "display_name": "Python 3.10.8 64-bit",
   "language": "python",
   "name": "python3"
  },
  "language_info": {
   "codemirror_mode": {
    "name": "ipython",
    "version": 3
   },
   "file_extension": ".py",
   "mimetype": "text/x-python",
   "name": "python",
   "nbconvert_exporter": "python",
   "pygments_lexer": "ipython3",
   "version": "3.10.8"
  },
  "orig_nbformat": 4,
  "vscode": {
   "interpreter": {
    "hash": "d9db07523a7bcd884ceb30f06d1f807e37bfbee0943e0469c0a01fb4263e8ac0"
   }
  }
 },
 "nbformat": 4,
 "nbformat_minor": 2
}
