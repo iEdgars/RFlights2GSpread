{
 "cells": [
  {
   "cell_type": "code",
   "execution_count": 1,
   "metadata": {},
   "outputs": [],
   "source": [
    "import requests\n",
    "import gspread\n",
    "from datetime import date, timedelta, datetime\n",
    "from time import sleep\n",
    "#import json\n",
    "sa = gspread.service_account(filename=\"sa_creds.json\")\n"
   ]
  },
  {
   "cell_type": "code",
   "execution_count": 2,
   "metadata": {},
   "outputs": [],
   "source": [
    "#Ryanair queries:\n",
    "def getDestinations(airportFrom: str):\n",
    "    base = 'https://www.ryanair.com/api/locate/v5/routes'\n",
    "    departureAirportCode = f'departureAirportCode={airportFrom.upper()}'\n",
    "    fields = 'fields=arrivalAirport.code&fields=arrivalAirport.name&fields=arrivalAirport.seoName&fields=arrivalAirport.timeZone&fields=arrivalAirport.city.code&fields=arrivalAirport.city.name&fields=arrivalAirport.coordinates.latitude&fields=arrivalAirport.coordinates.longitude&fields=arrivalAirport.country.code&fields=arrivalAirport.country.name&fields=arrivalAirport.country.currency&fields=operator'\n",
    "    return f'{base}?{departureAirportCode}&{fields}'\n",
    "\n",
    "def getAvailabilities(airportFrom: str, airportTo: str):\n",
    "    base = 'https://www.ryanair.com/api/farfnd/3/oneWayFares'\n",
    "    return f'{base}/{airportFrom.upper()}/{airportTo.upper()}/availabilities'\n",
    "\n",
    "def getFares(airportFrom: str, airportTo: str, dateOutIn: str, adult: int=1, teen: int=0, children: int=0, infant: int=0, flexDays: int=6):\n",
    "    base = 'https://www.ryanair.com/api/booking/v4/en-en/availability'\n",
    "    \n",
    "    return f'{base}?ADT={adult}&CHD={children}&Destination={airportTo.upper()}&INF={infant}&Origin={airportFrom.upper()}&TEEN={teen}&IncludeConnectingFlights=false&DateOut={dateOutIn}&FlexDaysOut={flexDays}&DateIn={dateOutIn}&FlexDaysIn={flexDays}&RoundTrip=true&ToUs=AGREED'\n",
    "\n",
    "def readDestinations(trip, mappingFor, destinationsJSON, destinationsList):\n",
    "    for d in destinationsJSON:\n",
    "        dArrivalAirportCode = d['arrivalAirport']['code']\n",
    "        dAirportName = d['arrivalAirport']['name']\n",
    "        dAirportSeoName = d['arrivalAirport']['seoName']\n",
    "        dAirportCountryCode = d['arrivalAirport']['country']['code']\n",
    "        dAirportCountryName = d['arrivalAirport']['country']['name']\n",
    "        dAirportCityName = d['arrivalAirport']['city']['name']\n",
    "        dAirportTimeZone = d['arrivalAirport']['timeZone']\n",
    "        dCurrency = d['arrivalAirport']['country']['currency']\n",
    "        dlatitude = str(d['arrivalAirport']['coordinates']['latitude'])\n",
    "        dlongitude = str(d['arrivalAirport']['coordinates']['longitude'])\n",
    "        dDateChecked = str(date.today())\n",
    "        destinationsList.append([trip, mappingFor, dArrivalAirportCode, dAirportName, dAirportSeoName, dAirportCountryCode, dAirportCountryName, dAirportCityName, dAirportTimeZone, dCurrency, dlatitude, dlongitude, dDateChecked])\n",
    "\n",
    "def buildFareSearch(activeTrips, ryanDestinations):\n",
    "    for f in activeTrips:\n",
    "        for i in ryanDestinations:\n",
    "            if f[0] in i:\n",
    "                fareDestinations.append([f[0], f[1], f[2], i[1], i[2], f[3]])\n",
    "\n",
    "rDestinations = []\n",
    "fareDestinations = []"
   ]
  },
  {
   "cell_type": "code",
   "execution_count": 3,
   "metadata": {},
   "outputs": [],
   "source": [
    "#getting all worksheets on sheet\n",
    "wksheets = []\n",
    "sh = sa.open(\"Flights\")\n",
    "\n",
    "sh_md = sh.fetch_sheet_metadata()\n",
    "for s in sh_md['sheets']:\n",
    "    wksheets.append(s['properties']['title'])\n",
    "# wksheets"
   ]
  },
  {
   "cell_type": "code",
   "execution_count": 4,
   "metadata": {},
   "outputs": [],
   "source": [
    "#getting travel route and dates\n",
    "wks = sh.worksheet('Flights')\n",
    "flightSearch_all = wks.get_all_values()[1:]\n",
    "\n",
    "#adding trip to front\n",
    "for f in flightSearch_all:\n",
    "    f.insert(0, f'{f[0]}-{f[1]}_{f[2]}')\n",
    "\n",
    "#getting active trips only\n",
    "flightSearch_active = [f for f in flightSearch_all if 'TRUE' in f]\n",
    "\n",
    "#identifying trips that are already in RyanDestinations worksheet\n",
    "tripsAlreadyIn = []\n",
    "wks_dest = sh.worksheet('RyanDestinations')\n",
    "tripsIn = wks_dest.get()\n",
    "tripsIn = tripsIn[1:]\n",
    "for f in tripsIn:\n",
    "    if f[0] not in tripsAlreadyIn:\n",
    "        tripsAlreadyIn.append(f[0])\n",
    "\n",
    "#getting list of only new trips\n",
    "flightSearch_activeNew = [f for f in flightSearch_active if f[0] not in tripsAlreadyIn]"
   ]
  },
  {
   "cell_type": "code",
   "execution_count": 5,
   "metadata": {},
   "outputs": [],
   "source": [
    "#adding new trips to RyanDestinations worksheet\n",
    "if len(flightSearch_activeNew) > 0:\n",
    "    for f in flightSearch_activeNew:\n",
    "        fromMappingFor = f[1]\n",
    "        toMappingFor = f[2]\n",
    "        theTrip = f[0]\n",
    "        destinations = requests.get(getDestinations(fromMappingFor)).json()\n",
    "        readDestinations(theTrip, fromMappingFor, destinations, rDestinations)\n",
    "        sleep(3)\n",
    "        destinations = requests.get(getDestinations(toMappingFor)).json()\n",
    "        readDestinations(theTrip, toMappingFor, destinations, rDestinations)\n",
    "        sleep(4)\n",
    "    if len(rDestinations) > 0:\n",
    "        wks_dest.append_rows(rDestinations)"
   ]
  },
  {
   "cell_type": "code",
   "execution_count": 17,
   "metadata": {},
   "outputs": [],
   "source": [
    "def buildFlightDate(flightDate: str, flightFrom: str, flightTo: str):\n",
    "    fdate = datetime.strptime(flightDate,\"%Y-%m-%d\").date()\n",
    "    if fdate > date.today() + timedelta(days=4):\n",
    "        fdate = fdate - timedelta(days=3)\n",
    "    availables = requests.get(getAvailabilities(flightFrom,flightTo)).json()\n",
    "    for e, a in enumerate(availables):\n",
    "        if datetime.strptime(a,\"%Y-%m-%d\").date() < fdate:\n",
    "            availables[e] = 999\n",
    "        else:\n",
    "            availables[e] = abs((datetime.strptime(a,\"%Y-%m-%d\").date()-fdate).days)\n",
    "    return fdate + timedelta(days=min(availables))"
   ]
  },
  {
   "cell_type": "code",
   "execution_count": 23,
   "metadata": {},
   "outputs": [
    {
     "data": {
      "text/plain": [
       "datetime.date(2022, 11, 28)"
      ]
     },
     "execution_count": 23,
     "metadata": {},
     "output_type": "execute_result"
    }
   ],
   "source": [
    "buildFlightDate('2022-11-30', 'VNO', 'FCO')"
   ]
  },
  {
   "cell_type": "code",
   "execution_count": 62,
   "metadata": {},
   "outputs": [
    {
     "data": {
      "text/plain": [
       "1"
      ]
     },
     "execution_count": 62,
     "metadata": {},
     "output_type": "execute_result"
    }
   ],
   "source": [
    "\n",
    "\n",
    "\n",
    "\n",
    "d='2022-11-25'\n",
    "dt = datetime.strptime(d,\"%Y-%m-%d\").date()\n",
    "availables = requests.get(getAvailabilities('VNO','FCO')).json()\n",
    "if dt > date.today() + timedelta(days=4):\n",
    "    q = dt - timedelta(days=3)\n",
    "else:\n",
    "    q = dt\n",
    "# print(q)\n",
    "\n",
    "# dt\n",
    "\n",
    "for e, a in enumerate(availables):\n",
    "    availables[e] = datetime.strptime(a,\"%Y-%m-%d\").date()\n",
    "\n",
    "\n",
    "for e, a in enumerate(availables):\n",
    "    availables[e] = abs((a-dt).days)\n",
    "\n",
    "min(availables)\n",
    "\n",
    "\n",
    "# datetime.strptime(d,\"%Y-%m-%d\").date() - timedelta(days=3)"
   ]
  },
  {
   "cell_type": "code",
   "execution_count": 23,
   "metadata": {},
   "outputs": [
    {
     "data": {
      "text/plain": [
       "0"
      ]
     },
     "execution_count": 23,
     "metadata": {},
     "output_type": "execute_result"
    }
   ],
   "source": [
    "fdate = datetime.strptime('2022-11-23',\"%Y-%m-%d\").date()\n",
    "availables = requests.get(getAvailabilities('VNO','FCO')).json()\n",
    "for e, a in enumerate(availables):\n",
    "    if datetime.strptime(a,\"%Y-%m-%d\").date() < fdate:\n",
    "        availables[e] = 9999\n",
    "    else:\n",
    "        availables[e] = abs((datetime.strptime(a,\"%Y-%m-%d\").date()-fdate).days)\n",
    "\n",
    "min(availables)"
   ]
  },
  {
   "cell_type": "code",
   "execution_count": 7,
   "metadata": {},
   "outputs": [],
   "source": [
    "for f in fareDestinations:\n",
    "    print(datetime.strptime(f[5],\"%Y-%m-%d\").date())"
   ]
  },
  {
   "cell_type": "code",
   "execution_count": 11,
   "metadata": {},
   "outputs": [
    {
     "data": {
      "text/plain": [
       "[['VNO-PSR_2022-12-20', 'VNO', 'PSR', '2022-12-20', 'TRUE']]"
      ]
     },
     "execution_count": 11,
     "metadata": {},
     "output_type": "execute_result"
    }
   ],
   "source": [
    "flightSearch_active"
   ]
  }
 ],
 "metadata": {
  "kernelspec": {
   "display_name": "Python 3.10.8 64-bit",
   "language": "python",
   "name": "python3"
  },
  "language_info": {
   "codemirror_mode": {
    "name": "ipython",
    "version": 3
   },
   "file_extension": ".py",
   "mimetype": "text/x-python",
   "name": "python",
   "nbconvert_exporter": "python",
   "pygments_lexer": "ipython3",
   "version": "3.10.8"
  },
  "orig_nbformat": 4,
  "vscode": {
   "interpreter": {
    "hash": "d9db07523a7bcd884ceb30f06d1f807e37bfbee0943e0469c0a01fb4263e8ac0"
   }
  }
 },
 "nbformat": 4,
 "nbformat_minor": 2
}
