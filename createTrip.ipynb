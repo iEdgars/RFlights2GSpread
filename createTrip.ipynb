{
 "cells": [
  {
   "cell_type": "code",
   "execution_count": 1,
   "metadata": {},
   "outputs": [],
   "source": [
    "import requests\n",
    "from datetime import date\n",
    "import ryan\n",
    "import fire\n",
    "\n",
    "import firebase_admin\n",
    "from firebase_admin import credentials\n",
    "from firebase_admin import firestore"
   ]
  },
  {
   "cell_type": "code",
   "execution_count": 2,
   "metadata": {},
   "outputs": [],
   "source": [
    "# Use a service account.\n",
    "cred = credentials.Certificate('flightsAccount.json')\n",
    "app = firebase_admin.initialize_app(cred)\n",
    "db = firestore.client()"
   ]
  },
  {
   "cell_type": "code",
   "execution_count": 4,
   "metadata": {},
   "outputs": [],
   "source": [
    "#imput:\n",
    "trip = 'VNO-PSR'\n",
    "Outbound = '2023-09-09'\n",
    "Return = '2023-09-30'"
   ]
  },
  {
   "cell_type": "code",
   "execution_count": 5,
   "metadata": {},
   "outputs": [],
   "source": [
    "#checking for destinations and airports\n",
    "checkDate = int(str(date.today()).replace('-',''))\n",
    "for origin in trip.split('-'):\n",
    "    fireBatch = db.batch()\n",
    "    #API call for destinations\n",
    "    destinations = requests.get(ryan.getDestinations(origin,2)).json()\n",
    "    #read response, set batch for Firestore and create array of destinations \n",
    "    rDestinations = ryan.readDestinations(destinations, fireBatch, db)\n",
    "    #commiting batch\n",
    "    fireBatch.commit()\n",
    "\n",
    "    #create or update destinations from airport\n",
    "    fire.fireDestinations(db, origin, rDestinations)\n",
    "\n",
    "    #get array of matching destinations\n",
    "    if origin == trip[:3]:\n",
    "        rOriginDestinations = rDestinations\n",
    "    else:\n",
    "        rArrivalDestinations = rDestinations\n",
    "\n",
    "\n",
    "#array for matched destinations\n",
    "rConnections = []\n",
    "if trip[:3] in rArrivalDestinations:\n",
    "    isDirect = True\n",
    "else:\n",
    "    isDirect = False\n",
    "for d in rOriginDestinations:\n",
    "    if d in rArrivalDestinations:\n",
    "        rConnections.append(d)\n",
    "    \n",
    "fire.fireConnections(db, trip, rConnections, isDirect)\n",
    "fire.fireTrip(db, trip, int(str(date.today()).replace('-','')), True, rConnections, isDirect, Outbound.replace('-',''), Return.replace('-',''))\n",
    "# fire.fireTrip(db, trip, int(str(date.today()).replace('-','')), True, rConnections, isDirect, Outbound.replace('-',''))"
   ]
  },
  {
   "cell_type": "code",
   "execution_count": 8,
   "metadata": {},
   "outputs": [],
   "source": [
    "headers = {'Cookie': 'rid=53f81685-dd59-43a6-b829-2ac46e936cfa; rid.sig=OCBtG/WF9HO7H4S44kdr0UpsAs/uDH/Z89AjODYV4ipIZy+AD71pUFlLzf5wzEzBcRyxAYtAFGAtx4qTR8QVkUn51bdpJ6adVE+jcjrjjI+gS4t1gxaDdvBZs4Or2Dqxo/HarouZ+NRwtOYrk1d1WKoAbvkPW4Tr/OxK37O7JzNEQfTj/NYjObt4Vn8oTIij4S7BJ6f24RHOKf3Y2y1Gix27jFbvUe5Mh+5Pg4el5c309TyCtbIvycl9N1tcPeYXv7dDnk4KuGcxzl4zoVtTRXMh8O4JEr7shHjgB995Vpd6nJEJpVdtgYqGP51NK7djMcZB+HdJvDmgVI8556bYQxZle072SBcjGJgHC4k7a2spEA0OeaH1gG1gOzpODL7pubJzExfWNrrV94hudE3SKOY4S3wFdyNs6GB8QHwq/okZ+Xf+OEDZyhNAWDTMyZuzxoNPDME98mfIBDTRCuHeX1/G5ufUCC1G+qf0CBFoNhu8hXYOsfs/Bdh3ZkX92zTS0HeerO8LXCg4C9hpgq+g16tRewd1IdaOXRHmtVdMizw=; _ga=GA1.2.185346392.1675256153; STORAGE_PREFERENCES={\"STRICTLY_NECESSARY\":true,\"PERFORMANCE\":true,\"FUNCTIONAL\":true,\"TARGETING\":true,\"SOCIAL_MEDIA\":true,\"PIXEL\":true,\"GANALYTICS\":true,\"__VERSION\":2}; RY_COOKIE_CONSENT=true; bid_FRwdAp7a9G2cnLnTsgyBNeduseKcPcRy=8d7200bc-fe65-4a35-828c-05c5db690b69; _hjSessionUser_135144=eyJpZCI6ImYwNTcyYWYyLTVhMDYtNTg0My1hNzBkLWNjMTNjOTM5M2M4NiIsImNyZWF0ZWQiOjE2NzUyNTYxNTY1NzUsImV4aXN0aW5nIjp0cnVlfQ==; agsd=BXFqu0zsEJw9FQlrZw94l5ocpHvV_o6gxW4zfcOak1tJRf33; _cc=AcNukn4KxyCeXwwCm54JSS4K; fr-correlation-id=3c07d844-3f72-46a1-aaea-d81c822ba5e2; fr-correlation-id.sig=NNzxo5fz1Lzxa66hZof7b0c5szc; tj_seed=0025e97ccc74a598f297a6b2bdaf000000; __zlcmid=1F9liBTdl5vMDMU; _hjSessionUser_2481828=eyJpZCI6IjFhZjg1ODI5LTkwZjUtNTA3ZC1iNTVhLTg2YzJkNjkzNDViNiIsImNyZWF0ZWQiOjE2ODAyNTcxNzY5NjEsImV4aXN0aW5nIjpmYWxzZX0=; mkt=/gb/en/; _gid=GA1.2.161670609.1685688242; myRyanairID=; .AspNetCore.Session=CfDJ8Cxd1z5BGy5NmH8fAYZlb1QxQ80qqUfxxfQ0Ce7BOk%2FNZ7BhISvihHFiWzKXZvIgJG%2FDmB1Jjuo8gU9so9BmOcma7t3zeVdF%2FISPfGtsYYO96Jq8umNDC9mKclqpp%2BPqQbnlCl2OvfIUtOl7XAyfhQOC93VWLZ1Mno9lZYV8s%2BLm',\n",
    "           'User-Agent': 'Mozilla/5.0 (Windows NT 10.0; Win64; x64) AppleWebKit/537.36 (KHTML, like Gecko) Chrome/113.0.0.0 Safari/537.36'}\n",
    "\n",
    "ryanFlight = requests.get(ryan.getFlights('VNO', 'FCO', Outbound, Return), headers=headers).json()"
   ]
  },
  {
   "cell_type": "code",
   "execution_count": 9,
   "metadata": {},
   "outputs": [
    {
     "data": {
      "text/plain": [
       "[update_time {\n",
       "   seconds: 1688155228\n",
       "   nanos: 112565000\n",
       " },\n",
       " update_time {\n",
       "   seconds: 1688155228\n",
       "   nanos: 112565000\n",
       " },\n",
       " update_time {\n",
       "   seconds: 1688155228\n",
       "   nanos: 112565000\n",
       " },\n",
       " update_time {\n",
       "   seconds: 1688155228\n",
       "   nanos: 112565000\n",
       " },\n",
       " update_time {\n",
       "   seconds: 1688155228\n",
       "   nanos: 112565000\n",
       " },\n",
       " update_time {\n",
       "   seconds: 1688155228\n",
       "   nanos: 112565000\n",
       " },\n",
       " update_time {\n",
       "   seconds: 1688155228\n",
       "   nanos: 112565000\n",
       " },\n",
       " update_time {\n",
       "   seconds: 1688155228\n",
       "   nanos: 112565000\n",
       " },\n",
       " update_time {\n",
       "   seconds: 1688155228\n",
       "   nanos: 112565000\n",
       " },\n",
       " update_time {\n",
       "   seconds: 1688155228\n",
       "   nanos: 112565000\n",
       " },\n",
       " update_time {\n",
       "   seconds: 1688155228\n",
       "   nanos: 112565000\n",
       " },\n",
       " update_time {\n",
       "   seconds: 1688155228\n",
       "   nanos: 112565000\n",
       " }]"
      ]
     },
     "execution_count": 9,
     "metadata": {},
     "output_type": "execute_result"
    }
   ],
   "source": [
    "fireBatch = db.batch()\n",
    "\n",
    "ryan.readFlights(ryanFlight, fireBatch, db)\n",
    "\n",
    "fireBatch.commit()"
   ]
  }
 ],
 "metadata": {
  "kernelspec": {
   "display_name": "Python 3",
   "language": "python",
   "name": "python3"
  },
  "language_info": {
   "codemirror_mode": {
    "name": "ipython",
    "version": 3
   },
   "file_extension": ".py",
   "mimetype": "text/x-python",
   "name": "python",
   "nbconvert_exporter": "python",
   "pygments_lexer": "ipython3",
   "version": "3.11.0"
  },
  "orig_nbformat": 4
 },
 "nbformat": 4,
 "nbformat_minor": 2
}
