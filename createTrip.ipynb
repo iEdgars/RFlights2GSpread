{
 "cells": [
  {
   "cell_type": "code",
   "execution_count": 1,
   "metadata": {},
   "outputs": [],
   "source": [
    "import requests\n",
    "from datetime import date\n",
    "import ryan\n",
    "import fire\n",
    "\n",
    "import firebase_admin\n",
    "from firebase_admin import credentials\n",
    "from firebase_admin import firestore"
   ]
  },
  {
   "cell_type": "code",
   "execution_count": 2,
   "metadata": {},
   "outputs": [],
   "source": [
    "# Use a service account.\n",
    "cred = credentials.Certificate('flightsAccount.json')\n",
    "app = firebase_admin.initialize_app(cred)\n",
    "db = firestore.client()"
   ]
  },
  {
   "cell_type": "code",
   "execution_count": 3,
   "metadata": {},
   "outputs": [],
   "source": [
    "#matching destinations\n",
    "def matchDestinations(Origin, Arrival):\n",
    "    matchingDestinations = []\n",
    "    for destination in Origin:\n",
    "        if destination in Arrival:\n",
    "            matchingDestinations.append(d)\n",
    "    return matchingDestinations"
   ]
  },
  {
   "cell_type": "code",
   "execution_count": 4,
   "metadata": {},
   "outputs": [],
   "source": [
    "#imput:\n",
    "trip = 'VNO-PSR'\n",
    "Outbound = '2023-09-04'\n",
    "Return = '2023-09-24'"
   ]
  },
  {
   "cell_type": "code",
   "execution_count": 6,
   "metadata": {},
   "outputs": [],
   "source": [
    "#checking for destinations and airports\n",
    "checkDate = int(str(date.today()).replace('-',''))\n",
    "for origin in trip.split('-'):\n",
    "    fireBatch = db.batch()\n",
    "    #API call for destinations\n",
    "    destinations = requests.get(ryan.getDestinations(origin,2)).json()\n",
    "    #read response, set batch for Firestore and create array of destinations \n",
    "    rDestinations = ryan.readDestinations(destinations, fireBatch, db)\n",
    "    #commiting batch\n",
    "    fireBatch.commit()\n",
    "\n",
    "    #create or update destinations from airport\n",
    "    fire.fireDestinations(db, origin, rDestinations)\n",
    "\n",
    "    #get array of matching destinations\n",
    "    if origin == trip[:3]:\n",
    "        rOriginDestinations = rDestinations\n",
    "    else:\n",
    "        rArrivalDestinations = rDestinations\n",
    "\n",
    "\n",
    "#array for matched destinations\n",
    "rConnections = []\n",
    "if trip[:3] in rArrivalDestinations:\n",
    "    isDirect = True\n",
    "else:\n",
    "    isDirect = False\n",
    "for d in rOriginDestinations:\n",
    "    if d in rArrivalDestinations:\n",
    "        rConnections.append(d)\n",
    "    \n",
    "fire.fireConnections(db, trip, rConnections, isDirect)\n",
    "fire.fireTrip(db, trip, int(str(date.today()).replace('-','')), True, rConnections, isDirect, Outbound.replace('-',''), Return.replace('-',''))\n",
    "# fire.fireTrip(db, trip, int(str(date.today()).replace('-','')), True, rConnections, isDirect, Outbound.replace('-',''))"
   ]
  },
  {
   "cell_type": "code",
   "execution_count": 7,
   "metadata": {},
   "outputs": [
    {
     "name": "stdout",
     "output_type": "stream",
     "text": [
      "BGY\n",
      "HHN\n",
      "MLA\n",
      "STN\n",
      "TRN\n"
     ]
    }
   ],
   "source": [
    "for i in rConnections:\n",
    "    "
   ]
  }
 ],
 "metadata": {
  "kernelspec": {
   "display_name": "Python 3",
   "language": "python",
   "name": "python3"
  },
  "language_info": {
   "codemirror_mode": {
    "name": "ipython",
    "version": 3
   },
   "file_extension": ".py",
   "mimetype": "text/x-python",
   "name": "python",
   "nbconvert_exporter": "python",
   "pygments_lexer": "ipython3",
   "version": "3.11.0"
  },
  "orig_nbformat": 4
 },
 "nbformat": 4,
 "nbformat_minor": 2
}
