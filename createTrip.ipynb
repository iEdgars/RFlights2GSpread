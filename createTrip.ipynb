{
 "cells": [
  {
   "cell_type": "code",
   "execution_count": 1,
   "metadata": {},
   "outputs": [],
   "source": [
    "import requests\n",
    "from datetime import date\n",
    "import ryan\n",
    "import fire\n",
    "\n",
    "import firebase_admin\n",
    "from firebase_admin import credentials\n",
    "from firebase_admin import firestore"
   ]
  },
  {
   "cell_type": "code",
   "execution_count": 2,
   "metadata": {},
   "outputs": [],
   "source": [
    "# Use a service account.\n",
    "cred = credentials.Certificate('flightsAccount.json')\n",
    "app = firebase_admin.initialize_app(cred)\n",
    "db = firestore.client()"
   ]
  },
  {
   "cell_type": "code",
   "execution_count": 3,
   "metadata": {},
   "outputs": [],
   "source": [
    "#matching destinations\n",
    "def matchDestinations(Origin, Arrival):\n",
    "    matchingDestinations = []\n",
    "    for destination in Origin:\n",
    "        if destination in Arrival:\n",
    "            matchingDestinations.append(d)\n",
    "    return matchingDestinations"
   ]
  },
  {
   "cell_type": "code",
   "execution_count": 4,
   "metadata": {},
   "outputs": [],
   "source": [
    "#imput:\n",
    "trip = 'VNO-PSR'\n",
    "Outbound = '2023-09-04'\n",
    "Return = '2023-09-24'"
   ]
  },
  {
   "cell_type": "code",
   "execution_count": 5,
   "metadata": {},
   "outputs": [],
   "source": [
    "#checking for destinations and airports\n",
    "checkDate = int(str(date.today()).replace('-',''))\n",
    "for origin in trip.split('-'):\n",
    "    fireBatch = db.batch()\n",
    "    #API call for destinations\n",
    "    destinations = requests.get(ryan.getDestinations(origin,2)).json()\n",
    "    #read response, set batch for Firestore and create array of destinations \n",
    "    rDestinations = ryan.readDestinations(destinations, fireBatch, db)\n",
    "    #commiting batch\n",
    "    fireBatch.commit()\n",
    "\n",
    "    #create or update destinations from airport\n",
    "    fire.fireDestinations(db, origin, rDestinations)\n",
    "\n",
    "    #get array of matching destinations\n",
    "    if origin == trip[:3]:\n",
    "        rOriginDestinations = rDestinations\n",
    "    else:\n",
    "        rArrivalDestinations = rDestinations\n",
    "\n",
    "\n",
    "#array for matched destinations\n",
    "rConnections = []\n",
    "if trip[:3] in rArrivalDestinations:\n",
    "    isDirect = True\n",
    "else:\n",
    "    isDirect = False\n",
    "for d in rOriginDestinations:\n",
    "    if d in rArrivalDestinations:\n",
    "        rConnections.append(d)\n",
    "    \n",
    "fire.fireConnections(db, trip, rConnections, isDirect)\n",
    "fire.fireTrip(db, trip, int(str(date.today()).replace('-','')), True, rConnections, isDirect, Outbound.replace('-',''), Return.replace('-',''))\n",
    "# fire.fireTrip(db, trip, int(str(date.today()).replace('-','')), True, rConnections, isDirect, Outbound.replace('-',''))"
   ]
  },
  {
   "cell_type": "code",
   "execution_count": 6,
   "metadata": {},
   "outputs": [
    {
     "name": "stdout",
     "output_type": "stream",
     "text": [
      "https://www.ryanair.com/api/booking/v4/en-en/availability?ADT=1&CHD=0&Destination=BGY&INF=0&Origin=VNO&TEEN=0&IncludeConnectingFlights=false&DateOut=2023-09-04&FlexDaysOut=6&DateIn=2023-09-24&FlexDaysIn=6&RoundTrip=true&ToUs=AGREED\n",
      "https://www.ryanair.com/api/booking/v4/en-en/availability?ADT=1&CHD=0&Destination=HHN&INF=0&Origin=VNO&TEEN=0&IncludeConnectingFlights=false&DateOut=2023-09-04&FlexDaysOut=6&DateIn=2023-09-24&FlexDaysIn=6&RoundTrip=true&ToUs=AGREED\n",
      "https://www.ryanair.com/api/booking/v4/en-en/availability?ADT=1&CHD=0&Destination=MLA&INF=0&Origin=VNO&TEEN=0&IncludeConnectingFlights=false&DateOut=2023-09-04&FlexDaysOut=6&DateIn=2023-09-24&FlexDaysIn=6&RoundTrip=true&ToUs=AGREED\n",
      "https://www.ryanair.com/api/booking/v4/en-en/availability?ADT=1&CHD=0&Destination=STN&INF=0&Origin=VNO&TEEN=0&IncludeConnectingFlights=false&DateOut=2023-09-04&FlexDaysOut=6&DateIn=2023-09-24&FlexDaysIn=6&RoundTrip=true&ToUs=AGREED\n",
      "https://www.ryanair.com/api/booking/v4/en-en/availability?ADT=1&CHD=0&Destination=TRN&INF=0&Origin=VNO&TEEN=0&IncludeConnectingFlights=false&DateOut=2023-09-04&FlexDaysOut=6&DateIn=2023-09-24&FlexDaysIn=6&RoundTrip=true&ToUs=AGREED\n"
     ]
    }
   ],
   "source": [
    "for i in rConnections:\n",
    "    url = ryan.getFlights(i, trip[:3], Outbound, Return)\n",
    "    print(url)"
   ]
  },
  {
   "cell_type": "code",
   "execution_count": 42,
   "metadata": {},
   "outputs": [],
   "source": [
    "headers = {'Cookie': 'rid=53f81685-dd59-43a6-b829-2ac46e936cfa; rid.sig=OCBtG/WF9HO7H4S44kdr0UpsAs/uDH/Z89AjODYV4ipIZy+AD71pUFlLzf5wzEzBcRyxAYtAFGAtx4qTR8QVkUn51bdpJ6adVE+jcjrjjI+gS4t1gxaDdvBZs4Or2Dqxo/HarouZ+NRwtOYrk1d1WKoAbvkPW4Tr/OxK37O7JzNEQfTj/NYjObt4Vn8oTIij4S7BJ6f24RHOKf3Y2y1Gix27jFbvUe5Mh+5Pg4el5c309TyCtbIvycl9N1tcPeYXv7dDnk4KuGcxzl4zoVtTRXMh8O4JEr7shHjgB995Vpd6nJEJpVdtgYqGP51NK7djMcZB+HdJvDmgVI8556bYQxZle072SBcjGJgHC4k7a2spEA0OeaH1gG1gOzpODL7pubJzExfWNrrV94hudE3SKOY4S3wFdyNs6GB8QHwq/okZ+Xf+OEDZyhNAWDTMyZuzxoNPDME98mfIBDTRCuHeX1/G5ufUCC1G+qf0CBFoNhu8hXYOsfs/Bdh3ZkX92zTS0HeerO8LXCg4C9hpgq+g16tRewd1IdaOXRHmtVdMizw=; _ga=GA1.2.185346392.1675256153; STORAGE_PREFERENCES={\"STRICTLY_NECESSARY\":true,\"PERFORMANCE\":true,\"FUNCTIONAL\":true,\"TARGETING\":true,\"SOCIAL_MEDIA\":true,\"PIXEL\":true,\"GANALYTICS\":true,\"__VERSION\":2}; RY_COOKIE_CONSENT=true; bid_FRwdAp7a9G2cnLnTsgyBNeduseKcPcRy=8d7200bc-fe65-4a35-828c-05c5db690b69; _hjSessionUser_135144=eyJpZCI6ImYwNTcyYWYyLTVhMDYtNTg0My1hNzBkLWNjMTNjOTM5M2M4NiIsImNyZWF0ZWQiOjE2NzUyNTYxNTY1NzUsImV4aXN0aW5nIjp0cnVlfQ==; agsd=BXFqu0zsEJw9FQlrZw94l5ocpHvV_o6gxW4zfcOak1tJRf33; _cc=AcNukn4KxyCeXwwCm54JSS4K; fr-correlation-id=3c07d844-3f72-46a1-aaea-d81c822ba5e2; fr-correlation-id.sig=NNzxo5fz1Lzxa66hZof7b0c5szc; tj_seed=0025e97ccc74a598f297a6b2bdaf000000; __zlcmid=1F9liBTdl5vMDMU; _hjSessionUser_2481828=eyJpZCI6IjFhZjg1ODI5LTkwZjUtNTA3ZC1iNTVhLTg2YzJkNjkzNDViNiIsImNyZWF0ZWQiOjE2ODAyNTcxNzY5NjEsImV4aXN0aW5nIjpmYWxzZX0=; mkt=/gb/en/; _gid=GA1.2.161670609.1685688242; myRyanairID=; .AspNetCore.Session=CfDJ8Cxd1z5BGy5NmH8fAYZlb1QxQ80qqUfxxfQ0Ce7BOk%2FNZ7BhISvihHFiWzKXZvIgJG%2FDmB1Jjuo8gU9so9BmOcma7t3zeVdF%2FISPfGtsYYO96Jq8umNDC9mKclqpp%2BPqQbnlCl2OvfIUtOl7XAyfhQOC93VWLZ1Mno9lZYV8s%2BLm',\n",
    "           'User-Agent': 'Mozilla/5.0 (Windows NT 10.0; Win64; x64) AppleWebKit/537.36 (KHTML, like Gecko) Chrome/113.0.0.0 Safari/537.36'}\n",
    "\n",
    "ryanFlight = requests.get(ryan.getFlights('BGY', trip[:3], Outbound, Return), headers=headers).json()"
   ]
  },
  {
   "cell_type": "code",
   "execution_count": 83,
   "metadata": {},
   "outputs": [
    {
     "name": "stdout",
     "output_type": "stream",
     "text": [
      "VNO-BGY\n",
      "2023-09-04T00:00:00.000 [{'faresLeft': -1, 'flightKey': 'FR~2871~ ~~VNO~09/04/2023 07:30~BGY~09/04/2023 09:05~~', 'infantsLeft': 18, 'regularFare': {'fareKey': 'C2MCNHIDTOISVRVUREIXW724TURS65ND2E3N5PMRJJHPORCDVZGDDARZWYMGNPTERO6NXSIZL73OHUIQEXQJ2EOYBVWGRIVV7L55EYG5OYABVSJ3M572D3OYHI5CARBMWB2LMHSKRGORY43Q3NBTBU4QOXKSFUELW4H3PJWYWYOQSLEAVGK47ZEYLOFB7WLRMX7VPP46ONEACBI3OGOH4S2TBRTP5CEX66ZKOPIL53YG352GGQFBXUOR63WVH7BJ', 'fareClass': 'E', 'fares': [{'type': 'ADT', 'amount': 123.06, 'count': 1, 'hasDiscount': False, 'publishedFare': 123.06, 'discountInPercent': 0, 'hasPromoDiscount': False, 'discountAmount': 0.0, 'hasBogof': False}]}, 'operatedBy': 'Buzz', 'segments': [{'segmentNr': 0, 'origin': 'VNO', 'destination': 'BGY', 'flightNumber': 'FR 2871', 'time': ['2023-09-04T07:30:00.000', '2023-09-04T09:05:00.000'], 'timeUTC': ['2023-09-04T04:30:00.000Z', '2023-09-04T07:05:00.000Z'], 'duration': '02:35'}], 'flightNumber': 'FR 2871', 'time': ['2023-09-04T07:30:00.000', '2023-09-04T09:05:00.000'], 'timeUTC': ['2023-09-04T04:30:00.000Z', '2023-09-04T07:05:00.000Z'], 'duration': '02:35'}]\n",
      "2023-09-07T00:00:00.000 [{'faresLeft': -1, 'flightKey': 'FR~2871~ ~~VNO~09/07/2023 10:35~BGY~09/07/2023 12:10~~', 'infantsLeft': 18, 'regularFare': {'fareKey': 'QQD2FRR2Y2KNNXGON2POFGIZPUBUBRLXN2YED4CF32QGFNTOFFPKBXY3HZQXPCZV22CN7EDXMC5UUDJDYISFI57KMHWCH3JLFIO3MAGHFLXYNIAHVANSXDWAWZE7JQVPBAMXPSYBAB4ZLGBWJNZ7YPWW3774EHH7EYB7AGA4J6ZY6JAZ6FNA6UZQLS3LSNXR36IIJXIGR33FVUBY6XXWSIWJ3LGK6R4EWY3EECAHF5JCZZ625N3GKC54KHOU6GCA', 'fareClass': 'B', 'fares': [{'type': 'ADT', 'amount': 239.34, 'count': 1, 'hasDiscount': False, 'publishedFare': 239.34, 'discountInPercent': 0, 'hasPromoDiscount': False, 'discountAmount': 0.0, 'hasBogof': False}]}, 'operatedBy': 'Malta Air', 'segments': [{'segmentNr': 0, 'origin': 'VNO', 'destination': 'BGY', 'flightNumber': 'FR 2871', 'time': ['2023-09-07T10:35:00.000', '2023-09-07T12:10:00.000'], 'timeUTC': ['2023-09-07T07:35:00.000Z', '2023-09-07T10:10:00.000Z'], 'duration': '02:35'}], 'flightNumber': 'FR 2871', 'time': ['2023-09-07T10:35:00.000', '2023-09-07T12:10:00.000'], 'timeUTC': ['2023-09-07T07:35:00.000Z', '2023-09-07T10:10:00.000Z'], 'duration': '02:35'}]\n",
      "2023-09-09T00:00:00.000 [{'faresLeft': -1, 'flightKey': 'FR~2871~ ~~VNO~09/09/2023 12:05~BGY~09/09/2023 13:40~~', 'infantsLeft': 18, 'regularFare': {'fareKey': 'O75BVYBCFZOBPPJ57UAH3L3CAXCESZ5MKLO2T6AUPM45IYEZ4TZXCUUGLF2QHOT3DHDUW6FHWK5ZIGUPEM2GQDX7ZYJZQ2L7HF56XPJAC5RMDPLTETBSA7AZJDO45BCLPYRAKFWE7HFGF6YGM3OSITR7DI3OU5K7C22CGDCP6SCRT2LNJKGRHTSTLOMTSEQQX4JZMVFQELCMZBSP3LGJEL6NAPQCGERBHLQGIAQ', 'fareClass': 'P', 'fares': [{'type': 'ADT', 'amount': 133.99, 'count': 1, 'hasDiscount': False, 'publishedFare': 133.99, 'discountInPercent': 0, 'hasPromoDiscount': False, 'discountAmount': 0.0, 'hasBogof': False}]}, 'operatedBy': 'Buzz', 'segments': [{'segmentNr': 0, 'origin': 'VNO', 'destination': 'BGY', 'flightNumber': 'FR 2871', 'time': ['2023-09-09T12:05:00.000', '2023-09-09T13:40:00.000'], 'timeUTC': ['2023-09-09T09:05:00.000Z', '2023-09-09T11:40:00.000Z'], 'duration': '02:35'}], 'flightNumber': 'FR 2871', 'time': ['2023-09-09T12:05:00.000', '2023-09-09T13:40:00.000'], 'timeUTC': ['2023-09-09T09:05:00.000Z', '2023-09-09T11:40:00.000Z'], 'duration': '02:35'}]\n",
      "2023-09-10T00:00:00.000 [{'faresLeft': 5, 'flightKey': 'FR~2871~ ~~VNO~09/10/2023 18:35~BGY~09/10/2023 20:10~~', 'infantsLeft': 18, 'regularFare': {'fareKey': 'C2MCNHIDTOISVRVUREIXW724TURS65ND2E3N5PMRJJHPORCDVZGP56RV5R3GS6AAJN3ILWZGZULWF2EIP5TDL7JHW62BZ3POS6BGNRHXRGJSFIIQKXAU37UIVPAHA3WXK3QISFVYQRW57ZGBUOXGVHZ65CZAEIXR2MF6MU2SUE4AP5QZ6BM7LXDWSF2EP63KB56D6BB73QZLI3QFLYPS62JULPBG7R6LDMINX6A', 'fareClass': 'E', 'fares': [{'type': 'ADT', 'amount': 114.99, 'count': 1, 'hasDiscount': False, 'publishedFare': 114.99, 'discountInPercent': 0, 'hasPromoDiscount': False, 'discountAmount': 0.0, 'hasBogof': False}]}, 'operatedBy': 'Malta Air', 'segments': [{'segmentNr': 0, 'origin': 'VNO', 'destination': 'BGY', 'flightNumber': 'FR 2871', 'time': ['2023-09-10T18:35:00.000', '2023-09-10T20:10:00.000'], 'timeUTC': ['2023-09-10T15:35:00.000Z', '2023-09-10T18:10:00.000Z'], 'duration': '02:35'}], 'flightNumber': 'FR 2871', 'time': ['2023-09-10T18:35:00.000', '2023-09-10T20:10:00.000'], 'timeUTC': ['2023-09-10T15:35:00.000Z', '2023-09-10T18:10:00.000Z'], 'duration': '02:35'}]\n",
      "BGY-VNO\n",
      "2023-09-24T00:00:00.000 [{'faresLeft': -1, 'flightKey': 'FR~2872~ ~~BGY~09/24/2023 14:40~VNO~09/24/2023 18:10~~', 'infantsLeft': 17, 'regularFare': {'fareKey': 'AFKN235A5AXWTJDJOR5RAQO52DS2EK22FG2WHH5HXOYFE2YFRBK2VSTFMUJUPW57I6SLI37CVCWCNXHAXH5HFUQLKLTDPPHZAFMZ64JZNMXOUT4WEMYPOLFL664DOVFVZM2VF6BZNJL4IFOS7RITJOR6O5QYFEUKIFE2J5DTASB3YGRTIML5O6XPRMWINSRKVDCC7FOESHPQ46LNITX3NTBHTNR2QUMAJ6OTBEY', 'fareClass': 'L', 'fares': [{'type': 'ADT', 'amount': 156.99, 'count': 1, 'hasDiscount': False, 'publishedFare': 156.99, 'discountInPercent': 0, 'hasPromoDiscount': False, 'discountAmount': 0.0, 'hasBogof': False}]}, 'operatedBy': 'Malta Air', 'segments': [{'segmentNr': 0, 'origin': 'BGY', 'destination': 'VNO', 'flightNumber': 'FR 2872', 'time': ['2023-09-24T14:40:00.000', '2023-09-24T18:10:00.000'], 'timeUTC': ['2023-09-24T12:40:00.000Z', '2023-09-24T15:10:00.000Z'], 'duration': '02:30'}], 'flightNumber': 'FR 2872', 'time': ['2023-09-24T14:40:00.000', '2023-09-24T18:10:00.000'], 'timeUTC': ['2023-09-24T12:40:00.000Z', '2023-09-24T15:10:00.000Z'], 'duration': '02:30'}]\n",
      "2023-09-25T00:00:00.000 [{'faresLeft': -1, 'flightKey': 'FR~2872~ ~~BGY~09/25/2023 09:30~VNO~09/25/2023 13:00~~', 'infantsLeft': 18, 'regularFare': {'fareKey': 'WMH6TFV4K7FSSFZ7I6Q4CVTJQAHIOLMPXCIXTNRX2KA2YJ2E5WIDX5BCPGR6HMHECLWJLLDCG2ZDFSBLJI7CUKJWJ2KIIWAKQE6N2QYGCBETL7Y3WGHG4GIVBJV4GGYM3U53URJ7BH7OSZ6VLZIZ32T2E3SQTCHXYCBGFL4AJED4U2QJ2XLROPGJYRMDWNUN7BH2QYMMICT2ROLVGANKPXC2UCR2PKZUIBZPCKY', 'fareClass': 'K', 'fares': [{'type': 'ADT', 'amount': 98.99, 'count': 1, 'hasDiscount': False, 'publishedFare': 98.99, 'discountInPercent': 0, 'hasPromoDiscount': False, 'discountAmount': 0.0, 'hasBogof': False}]}, 'operatedBy': 'Buzz', 'segments': [{'segmentNr': 0, 'origin': 'BGY', 'destination': 'VNO', 'flightNumber': 'FR 2872', 'time': ['2023-09-25T09:30:00.000', '2023-09-25T13:00:00.000'], 'timeUTC': ['2023-09-25T07:30:00.000Z', '2023-09-25T10:00:00.000Z'], 'duration': '02:30'}], 'flightNumber': 'FR 2872', 'time': ['2023-09-25T09:30:00.000', '2023-09-25T13:00:00.000'], 'timeUTC': ['2023-09-25T07:30:00.000Z', '2023-09-25T10:00:00.000Z'], 'duration': '02:30'}]\n",
      "2023-09-28T00:00:00.000 [{'faresLeft': -1, 'flightKey': 'FR~2872~ ~~BGY~09/28/2023 06:40~VNO~09/28/2023 10:10~~', 'infantsLeft': 18, 'regularFare': {'fareKey': 'XCWNKYHGDG4LZVL3YFYF3VMFPAETSRFHB3RUZZIXXNWXWH3RPFBBOLFRY4DMZSXLKXR2C2MECIB74FNVCVMDWQRBANWSLCFAD42Y5XGLUHOV5GVNVA4EQAYZS26LIV4SVMOPMPCLRNSY55T5DDS4EMONBZHFHNRMMA5Y6X5D5U47MPH6NXGS4D4IGAKOSDO5SYEODTJFYHDVQLKHBVYSWR5LYOWBMVXNTQVLIGVEEF7Q4DMMFOBR22SSB3LIJO4U', 'fareClass': 'V', 'fares': [{'type': 'ADT', 'amount': 94.72, 'count': 1, 'hasDiscount': False, 'publishedFare': 94.72, 'discountInPercent': 0, 'hasPromoDiscount': False, 'discountAmount': 0.0, 'hasBogof': False}]}, 'operatedBy': 'Malta Air', 'segments': [{'segmentNr': 0, 'origin': 'BGY', 'destination': 'VNO', 'flightNumber': 'FR 2872', 'time': ['2023-09-28T06:40:00.000', '2023-09-28T10:10:00.000'], 'timeUTC': ['2023-09-28T04:40:00.000Z', '2023-09-28T07:10:00.000Z'], 'duration': '02:30'}], 'flightNumber': 'FR 2872', 'time': ['2023-09-28T06:40:00.000', '2023-09-28T10:10:00.000'], 'timeUTC': ['2023-09-28T04:40:00.000Z', '2023-09-28T07:10:00.000Z'], 'duration': '02:30'}]\n",
      "2023-09-30T00:00:00.000 [{'faresLeft': -1, 'flightKey': 'FR~2872~ ~~BGY~09/30/2023 14:05~VNO~09/30/2023 17:35~~', 'infantsLeft': 18, 'regularFare': {'fareKey': 'WMH6TFV4K7FSSFZ7I6Q4CVTJQAHIOLMPXCIXTNRX2KA2YJ2E5WIPZY4O3LPCVMQPBANC6KLLUSCQT7DMJP2OEH2ZNUMTYDQD474YWJT5MYHRZFTXJNPKLOFUMQF2NZMQ4WTIWT4UHUE5AKROCK2T33GQZERTNYY337WJCAMPVAIKFGPOKXVUURWULMGTUTXISNHQEB4PX5DBVGHF2RYIS353YWZBVU6VR2OSLO5CLY5KRNJHWIGFP7EW3VJFB5UC', 'fareClass': 'K', 'fares': [{'type': 'ADT', 'amount': 111.34, 'count': 1, 'hasDiscount': False, 'publishedFare': 111.34, 'discountInPercent': 0, 'hasPromoDiscount': False, 'discountAmount': 0.0, 'hasBogof': False}]}, 'operatedBy': 'Buzz', 'segments': [{'segmentNr': 0, 'origin': 'BGY', 'destination': 'VNO', 'flightNumber': 'FR 2872', 'time': ['2023-09-30T14:05:00.000', '2023-09-30T17:35:00.000'], 'timeUTC': ['2023-09-30T12:05:00.000Z', '2023-09-30T14:35:00.000Z'], 'duration': '02:30'}], 'flightNumber': 'FR 2872', 'time': ['2023-09-30T14:05:00.000', '2023-09-30T17:35:00.000'], 'timeUTC': ['2023-09-30T12:05:00.000Z', '2023-09-30T14:35:00.000Z'], 'duration': '02:30'}]\n"
     ]
    }
   ],
   "source": [
    "for f in ryanFlight['trips']:\n",
    "    print(f\"{f['origin']}-{f['destination']}\")\n",
    "    for d in f['dates']:\n",
    "        if d['flights'] != []:\n",
    "            print(d['dateOut'], d['flights'])"
   ]
  }
 ],
 "metadata": {
  "kernelspec": {
   "display_name": "Python 3",
   "language": "python",
   "name": "python3"
  },
  "language_info": {
   "codemirror_mode": {
    "name": "ipython",
    "version": 3
   },
   "file_extension": ".py",
   "mimetype": "text/x-python",
   "name": "python",
   "nbconvert_exporter": "python",
   "pygments_lexer": "ipython3",
   "version": "3.11.0"
  },
  "orig_nbformat": 4
 },
 "nbformat": 4,
 "nbformat_minor": 2
}
