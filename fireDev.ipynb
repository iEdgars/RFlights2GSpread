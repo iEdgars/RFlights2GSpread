{
 "cells": [
  {
   "cell_type": "code",
   "execution_count": 1,
   "metadata": {},
   "outputs": [],
   "source": [
    "import firebase_admin\n",
    "from firebase_admin import credentials\n",
    "from firebase_admin import firestore\n",
    "\n",
    "from datetime import date\n",
    "\n",
    "# Use a service account.\n",
    "cred = credentials.Certificate('flightsAccount.json')\n",
    "\n",
    "app = firebase_admin.initialize_app(cred)\n",
    "\n",
    "db = firestore.client()"
   ]
  },
  {
   "attachments": {},
   "cell_type": "markdown",
   "metadata": {},
   "source": [
    "Destinations structure:"
   ]
  },
  {
   "cell_type": "code",
   "execution_count": null,
   "metadata": {},
   "outputs": [],
   "source": [
    "checkDate = 20230524\n",
    "origin = 'PSR'\n",
    "\n",
    "doc_ref = db.collection('TestDestinations').document(origin)\n",
    "doc_ref.set({\n",
    "    'CheckDate': checkDate,\n",
    "    'Destinations': ['BGY','TFS']\n",
    "})\n",
    "\n",
    "doc_ref = db.collection('TestDestinations').document(origin).collection('Historical').document(f'{checkDate}')\n",
    "doc_ref.set({\n",
    "    'CheckDate': checkDate,\n",
    "    'Origin': origin,\n",
    "    'Destinations': ['BGY','TFS']\n",
    "})"
   ]
  },
  {
   "cell_type": "code",
   "execution_count": null,
   "metadata": {},
   "outputs": [],
   "source": [
    "collections = db.collection('TestDestinations').document('VNO').collections()\n",
    "for collection in collections:\n",
    "    for doc in collection.stream():\n",
    "        print(f'{doc.id} => {doc.to_dict()}')"
   ]
  },
  {
   "cell_type": "code",
   "execution_count": null,
   "metadata": {},
   "outputs": [],
   "source": [
    "checkDate = int(str(date.today()).replace('-',''))\n",
    "# checkDate = 20230524\n",
    "origin = 'PSR'\n",
    "ports = ['PSR','VNO','TFS','BGY']\n",
    "\n",
    "\n",
    "batch = db.batch()\n",
    "\n",
    "for i in ports:\n",
    "    ref = db.collection('TestAirpots').document(i)\n",
    "    batch.set(ref, {\n",
    "        'Airport': i,\n",
    "        'AirportName': f'{i}_Port',\n",
    "        'AirportCity': f'{i}_City',\n",
    "        'AirportCountry': f'{i}_Country'\n",
    "    })\n",
    "\n",
    "batch.commit()"
   ]
  },
  {
   "cell_type": "code",
   "execution_count": 9,
   "metadata": {},
   "outputs": [
    {
     "data": {
      "text/plain": [
       "update_time {\n",
       "  seconds: 1685170194\n",
       "  nanos: 989850000\n",
       "}"
      ]
     },
     "execution_count": 9,
     "metadata": {},
     "output_type": "execute_result"
    }
   ],
   "source": [
    "trip = 'VNO-PSR'\n",
    "\n",
    "doc_ref = db.collection('TestTrips').document(trip)\n",
    "doc_ref.set({\n",
    "    'From': trip[:3],\n",
    "    'To': trip[4:],\n",
    "    'Active': True,\n",
    "    'One Way': False,\n",
    "    'Outbound Date': 20230904,\n",
    "    'Return Date': 20230924\n",
    "})"
   ]
  },
  {
   "cell_type": "code",
   "execution_count": 11,
   "metadata": {},
   "outputs": [
    {
     "data": {
      "text/plain": [
       "update_time {\n",
       "  seconds: 1685170785\n",
       "  nanos: 759922000\n",
       "}"
      ]
     },
     "execution_count": 11,
     "metadata": {},
     "output_type": "execute_result"
    }
   ],
   "source": [
    "trip = 'PSR-VNO'\n",
    "\n",
    "doc_ref = db.collection('TestTrips').document(trip)\n",
    "doc_ref.set({\n",
    "    'From': trip[:3],\n",
    "    'To': trip[4:],\n",
    "    'Active': True,\n",
    "    'One Way': False,\n",
    "    'Outbound Date': 20230703,\n",
    "    'Return Date': 20230923\n",
    "})"
   ]
  },
  {
   "cell_type": "code",
   "execution_count": 7,
   "metadata": {},
   "outputs": [],
   "source": [
    "def fireTrip(fireDB, trip: str, isActive: bool, outboundDate: int, returnDate: int=0):\n",
    "    fireDoc = fireDB.collection('Trips').document(trip)\n",
    "    if returnDate != 0:\n",
    "        fireDoc.set({\n",
    "            'From': trip[:3],\n",
    "            'To': trip[4:],\n",
    "            'Active': isActive,\n",
    "            'OutboundDate': outboundDate,\n",
    "            'OneWay': False,\n",
    "            'ReturnDate': returnDate\n",
    "        })\n",
    "    else:\n",
    "        fireDoc.set({\n",
    "            'From': trip[:3],\n",
    "            'To': trip[4:],\n",
    "            'Active': isActive,\n",
    "            'OutboundDate': outboundDate,\n",
    "            'OneWay': True\n",
    "        })"
   ]
  }
 ],
 "metadata": {
  "kernelspec": {
   "display_name": "Python 3",
   "language": "python",
   "name": "python3"
  },
  "language_info": {
   "codemirror_mode": {
    "name": "ipython",
    "version": 3
   },
   "file_extension": ".py",
   "mimetype": "text/x-python",
   "name": "python",
   "nbconvert_exporter": "python",
   "pygments_lexer": "ipython3",
   "version": "3.11.0"
  },
  "orig_nbformat": 4
 },
 "nbformat": 4,
 "nbformat_minor": 2
}
