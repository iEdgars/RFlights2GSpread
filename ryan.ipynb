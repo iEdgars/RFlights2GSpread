{
 "cells": [
  {
   "cell_type": "code",
   "execution_count": 1,
   "metadata": {},
   "outputs": [],
   "source": [
    "import requests\n",
    "from datetime import date\n",
    "import ryan\n",
    "\n",
    "import firebase_admin\n",
    "from firebase_admin import credentials\n",
    "from firebase_admin import firestore"
   ]
  },
  {
   "cell_type": "code",
   "execution_count": 2,
   "metadata": {},
   "outputs": [],
   "source": [
    "# Use a service account.\n",
    "cred = credentials.Certificate('flightsAccount.json')\n",
    "\n",
    "app = firebase_admin.initialize_app(cred)\n",
    "\n",
    "db = firestore.client()\n"
   ]
  },
  {
   "cell_type": "code",
   "execution_count": 11,
   "metadata": {},
   "outputs": [],
   "source": [
    "origin = 'VNO'"
   ]
  },
  {
   "cell_type": "code",
   "execution_count": 12,
   "metadata": {},
   "outputs": [
    {
     "data": {
      "text/plain": [
       "'https://www.ryanair.com/api/views/locate/searchWidget/routes/en/airport/VNO'"
      ]
     },
     "execution_count": 12,
     "metadata": {},
     "output_type": "execute_result"
    }
   ],
   "source": [
    "ryan.getDestinations(origin, 2)"
   ]
  },
  {
   "cell_type": "code",
   "execution_count": 13,
   "metadata": {},
   "outputs": [
    {
     "data": {
      "text/plain": [
       "[update_time {\n",
       "   seconds: 1684917687\n",
       "   nanos: 121088000\n",
       " },\n",
       " update_time {\n",
       "   seconds: 1684917687\n",
       "   nanos: 121088000\n",
       " },\n",
       " update_time {\n",
       "   seconds: 1684917687\n",
       "   nanos: 121088000\n",
       " },\n",
       " update_time {\n",
       "   seconds: 1684917687\n",
       "   nanos: 121088000\n",
       " },\n",
       " update_time {\n",
       "   seconds: 1684917687\n",
       "   nanos: 121088000\n",
       " },\n",
       " update_time {\n",
       "   seconds: 1684917687\n",
       "   nanos: 121088000\n",
       " },\n",
       " update_time {\n",
       "   seconds: 1684917687\n",
       "   nanos: 121088000\n",
       " },\n",
       " update_time {\n",
       "   seconds: 1684917687\n",
       "   nanos: 121088000\n",
       " },\n",
       " update_time {\n",
       "   seconds: 1684917687\n",
       "   nanos: 121088000\n",
       " },\n",
       " update_time {\n",
       "   seconds: 1684917687\n",
       "   nanos: 121088000\n",
       " },\n",
       " update_time {\n",
       "   seconds: 1684917687\n",
       "   nanos: 121088000\n",
       " },\n",
       " update_time {\n",
       "   seconds: 1684917687\n",
       "   nanos: 121088000\n",
       " },\n",
       " update_time {\n",
       "   seconds: 1684917687\n",
       "   nanos: 121088000\n",
       " },\n",
       " update_time {\n",
       "   seconds: 1684917687\n",
       "   nanos: 121088000\n",
       " },\n",
       " update_time {\n",
       "   seconds: 1684917687\n",
       "   nanos: 121088000\n",
       " },\n",
       " update_time {\n",
       "   seconds: 1684917687\n",
       "   nanos: 121088000\n",
       " },\n",
       " update_time {\n",
       "   seconds: 1684917687\n",
       "   nanos: 121088000\n",
       " },\n",
       " update_time {\n",
       "   seconds: 1684917687\n",
       "   nanos: 121088000\n",
       " },\n",
       " update_time {\n",
       "   seconds: 1684917687\n",
       "   nanos: 121088000\n",
       " },\n",
       " update_time {\n",
       "   seconds: 1684917687\n",
       "   nanos: 121088000\n",
       " },\n",
       " update_time {\n",
       "   seconds: 1684917687\n",
       "   nanos: 121088000\n",
       " },\n",
       " update_time {\n",
       "   seconds: 1684917687\n",
       "   nanos: 121088000\n",
       " }]"
      ]
     },
     "execution_count": 13,
     "metadata": {},
     "output_type": "execute_result"
    }
   ],
   "source": [
    "rDestinations = []\n",
    "rAirports = []\n",
    "fireBatch = db.batch()\n",
    "destinations = requests.get(ryan.getDestinations(origin,2)).json()\n",
    "ryan.readDestinations(destinations, rDestinations, fireBatch, db)\n",
    "fireBatch.commit()"
   ]
  },
  {
   "cell_type": "code",
   "execution_count": 14,
   "metadata": {},
   "outputs": [
    {
     "data": {
      "text/plain": [
       "update_time {\n",
       "  seconds: 1684920573\n",
       "  nanos: 806783000\n",
       "}"
      ]
     },
     "execution_count": 14,
     "metadata": {},
     "output_type": "execute_result"
    }
   ],
   "source": [
    "checkDate = int(str(date.today()).replace('-',''))\n",
    "\n",
    "doc_ref = db.collection('Destinations').document(origin)\n",
    "doc_ref.set({\n",
    "    'CheckDate': checkDate,\n",
    "    'Destinations': rDestinations\n",
    "})\n",
    "\n",
    "doc_ref = db.collection('Destinations').document(origin).collection('Historical').document(f'{checkDate}')\n",
    "doc_ref.set({\n",
    "    'CheckDate': checkDate,\n",
    "    'Origin': origin,\n",
    "    'Destinations': rDestinations,\n",
    "    'Quantity': len(rDestinations)\n",
    "})"
   ]
  }
 ],
 "metadata": {
  "kernelspec": {
   "display_name": "Python 3",
   "language": "python",
   "name": "python3"
  },
  "language_info": {
   "codemirror_mode": {
    "name": "ipython",
    "version": 3
   },
   "file_extension": ".py",
   "mimetype": "text/x-python",
   "name": "python",
   "nbconvert_exporter": "python",
   "pygments_lexer": "ipython3",
   "version": "3.11.0"
  },
  "orig_nbformat": 4
 },
 "nbformat": 4,
 "nbformat_minor": 2
}
